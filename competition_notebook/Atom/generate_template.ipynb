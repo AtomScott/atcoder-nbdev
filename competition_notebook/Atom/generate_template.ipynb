{
 "cells": [
  {
   "cell_type": "markdown",
   "id": "617bef38",
   "metadata": {},
   "source": [
    "# Template Builder"
   ]
  },
  {
   "cell_type": "code",
   "execution_count": 1,
   "id": "da8164d3",
   "metadata": {},
   "outputs": [],
   "source": [
    "rm -rf 'abc15'"
   ]
  },
  {
   "cell_type": "code",
   "execution_count": 2,
   "id": "274d33f9",
   "metadata": {},
   "outputs": [
    {
     "name": "stdout",
     "output_type": "stream",
     "text": [
      "/bin/bash: atcoder-tools: command not found\n"
     ]
    }
   ],
   "source": [
    "!atcoder-tools gen abc15 --workspace='.' --lang='python' --save-no-session-cache --config='../configs/atcodertools.toml' "
   ]
  },
  {
   "cell_type": "code",
   "execution_count": null,
   "id": "1095977c",
   "metadata": {},
   "outputs": [],
   "source": []
  }
 ],
 "metadata": {
  "kernelspec": {
   "display_name": "Python 3",
   "language": "python",
   "name": "python3"
  },
  "language_info": {
   "codemirror_mode": {
    "name": "ipython",
    "version": 3
   },
   "file_extension": ".py",
   "mimetype": "text/x-python",
   "name": "python",
   "nbconvert_exporter": "python",
   "pygments_lexer": "ipython3",
   "version": "3.8.5"
  }
 },
 "nbformat": 4,
 "nbformat_minor": 5
}
