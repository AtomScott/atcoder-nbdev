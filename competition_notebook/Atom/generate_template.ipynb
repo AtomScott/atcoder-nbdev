{
 "cells": [
  {
   "cell_type": "markdown",
   "metadata": {},
   "source": [
    "# Template Builder"
   ]
  },
  {
   "cell_type": "code",
   "execution_count": null,
   "metadata": {},
   "outputs": [],
   "source": [
    "rm -rf 'abc175'"
   ]
  },
  {
   "cell_type": "code",
   "execution_count": 1,
   "metadata": {},
   "outputs": [
    {
     "name": "stdout",
     "output_type": "stream",
     "text": [
      "\u001b[33mThe latest version 2.2.0 is available! (The current version: 1.1.7.1)\n",
      "To upgrade, run the following command:\n",
      "\n",
      "pip3 install atcoder-tools --upgrade\n",
      "\u001b[0m\n",
      "2021-05-08 21:00:14,517 INFO: Going to load ../configs/atcodertools.toml as config\n",
      "2021-05-08 21:00:14,519 INFO: Loaded session from /home/me/.local/share/atcoder-tools/cookie.txt\n",
      "2021-05-08 21:00:14,940 INFO: Successfully Logged in using the previous session cache.\n",
      "2021-05-08 21:00:14,940 INFO: If you'd like to invalidate the cache, delete /home/me/.local/share/atcoder-tools/cookie.txt.\n",
      "2021-05-08 21:00:14,940 INFO: Login successful.\n",
      "=================================================\n",
      "2021-05-08 21:00:15,132 INFO: Problem A: ../configs/ipynb_template.md is used for template\n",
      "2021-05-08 21:00:15,290 INFO: Problem A: Created examples.\n",
      "2021-05-08 21:00:15,291 INFO: Problem A: \u001b[92mFormat prediction succeeded\u001b[39m\n",
      "2021-05-08 21:00:15,379 INFO: Problem A: Saved code to ./abc200/A/main.py\n",
      "2021-05-08 21:00:15,380 INFO: Problem A: Saved metadata to ./abc200/A/metadata.json\n",
      "2021-05-08 21:00:15,380 INFO: Problem A: Executing the following command in `./abc200/A`: bash ../../../configs/post_problem.sh\n",
      "=================================================\n",
      "2021-05-08 21:00:16,832 INFO: Problem B: ../configs/ipynb_template.md is used for template\n",
      "2021-05-08 21:00:16,989 INFO: Problem B: Created examples.\n",
      "2021-05-08 21:00:16,989 INFO: Problem B: \u001b[92mFormat prediction succeeded\u001b[39m\n",
      "2021-05-08 21:00:17,074 INFO: Problem B: Saved code to ./abc200/B/main.py\n",
      "2021-05-08 21:00:17,075 INFO: Problem B: Saved metadata to ./abc200/B/metadata.json\n",
      "2021-05-08 21:00:17,075 INFO: Problem B: Executing the following command in `./abc200/B`: bash ../../../configs/post_problem.sh\n",
      "=================================================\n",
      "2021-05-08 21:00:18,421 INFO: Problem C: ../configs/ipynb_template.md is used for template\n",
      "2021-05-08 21:00:18,568 INFO: Problem C: Created examples.\n",
      "2021-05-08 21:00:18,569 INFO: Problem C: \u001b[92mFormat prediction succeeded\u001b[39m\n",
      "2021-05-08 21:00:18,652 INFO: Problem C: Saved code to ./abc200/C/main.py\n",
      "2021-05-08 21:00:18,652 INFO: Problem C: Saved metadata to ./abc200/C/metadata.json\n",
      "2021-05-08 21:00:18,652 INFO: Problem C: Executing the following command in `./abc200/C`: bash ../../../configs/post_problem.sh\n",
      "=================================================\n",
      "2021-05-08 21:00:20,133 INFO: Problem D: ../configs/ipynb_template.md is used for template\n",
      "2021-05-08 21:00:20,288 INFO: Problem D: Created examples.\n",
      "2021-05-08 21:00:20,289 INFO: Problem D: \u001b[92mFormat prediction succeeded\u001b[39m\n",
      "2021-05-08 21:00:20,367 INFO: Problem D: Saved code to ./abc200/D/main.py\n",
      "2021-05-08 21:00:20,367 INFO: Problem D: Saved metadata to ./abc200/D/metadata.json\n",
      "2021-05-08 21:00:20,367 INFO: Problem D: Executing the following command in `./abc200/D`: bash ../../../configs/post_problem.sh\n",
      "=================================================\n",
      "2021-05-08 21:00:21,859 INFO: Problem E: ../configs/ipynb_template.md is used for template\n",
      "2021-05-08 21:00:22,049 INFO: Problem E: Created examples.\n",
      "2021-05-08 21:00:22,050 INFO: Problem E: \u001b[92mFormat prediction succeeded\u001b[39m\n",
      "2021-05-08 21:00:22,122 INFO: Problem E: Saved code to ./abc200/E/main.py\n",
      "2021-05-08 21:00:22,122 INFO: Problem E: Saved metadata to ./abc200/E/metadata.json\n",
      "2021-05-08 21:00:22,122 INFO: Problem E: Executing the following command in `./abc200/E`: bash ../../../configs/post_problem.sh\n",
      "=================================================\n",
      "2021-05-08 21:00:23,473 INFO: Problem F: ../configs/ipynb_template.md is used for template\n",
      "2021-05-08 21:00:23,624 INFO: Problem F: Created examples.\n",
      "2021-05-08 21:00:23,625 INFO: Problem F: \u001b[92mFormat prediction succeeded\u001b[39m\n",
      "2021-05-08 21:00:23,706 INFO: Problem F: Saved code to ./abc200/F/main.py\n",
      "2021-05-08 21:00:23,706 INFO: Problem F: Saved metadata to ./abc200/F/metadata.json\n",
      "2021-05-08 21:00:23,706 INFO: Problem F: Executing the following command in `./abc200/F`: bash ../../../configs/post_problem.sh\n",
      "=================================================\n",
      "2021-05-08 21:00:25,043 INFO: Executing the following command in `./abc200`: bash ../../configs/post_contest.sh\n",
      "\u001b[0m"
     ]
    }
   ],
   "source": [
    "!atcoder-tools gen abc200 --workspace='.' --lang='python' --save-no-session-cache --config='../configs/atcodertools.toml' "
   ]
  },
  {
   "cell_type": "code",
   "execution_count": null,
   "metadata": {},
   "outputs": [],
   "source": []
  }
 ],
 "metadata": {
  "kernelspec": {
   "display_name": "Python 3",
   "language": "python",
   "name": "python3"
  },
  "language_info": {
   "codemirror_mode": {
    "name": "ipython",
    "version": 3
   },
   "file_extension": ".py",
   "mimetype": "text/x-python",
   "name": "python",
   "nbconvert_exporter": "python",
   "pygments_lexer": "ipython3",
   "version": "3.8.5"
  }
 },
 "nbformat": 4,
 "nbformat_minor": 5
}
