{
 "cells": [
  {
   "cell_type": "markdown",
   "metadata": {},
   "source": [
    "# Template Builder"
   ]
  },
  {
   "cell_type": "code",
   "execution_count": null,
   "metadata": {},
   "outputs": [],
   "source": [
    "rm -rf 'abc175'"
   ]
  },
  {
   "cell_type": "code",
   "execution_count": null,
   "metadata": {},
   "outputs": [
    {
     "name": "stdout",
     "output_type": "stream",
     "text": [
      "2021-03-27 06:18:59,808 INFO: Going to load ../configs/atcodertools.toml as config\n",
      "2021-03-27 06:18:59,809 INFO: Loaded session from /home/me/.local/share/atcoder-tools/cookie.txt\n",
      "2021-03-27 06:19:00,098 INFO: Successfully Logged in using the previous session cache.\n",
      "2021-03-27 06:19:00,098 INFO: If you'd like to invalidate the cache, delete /home/me/.local/share/atcoder-tools/cookie.txt.\n",
      "2021-03-27 06:19:00,098 INFO: Login successful.\n",
      "=================================================\n",
      "2021-03-27 06:19:00,311 INFO: Problem A: ../configs/ipynb_template.md is used for template\n",
      "2021-03-27 06:19:00,443 INFO: Problem A: Created examples.\n",
      "2021-03-27 06:19:00,443 INFO: Problem A: \u001b[92mFormat prediction succeeded\u001b[39m\n",
      "2021-03-27 06:19:00,511 INFO: Problem A: Saved code to ./abc175/A/main.py\n",
      "2021-03-27 06:19:00,511 INFO: Problem A: Saved metadata to ./abc175/A/metadata.json\n",
      "2021-03-27 06:19:00,511 INFO: Problem A: Executing the following command in `./abc175/A`: bash ../../../configs/post_problem.sh\n",
      "=================================================\n",
      "2021-03-27 06:19:02,032 INFO: Problem B: ../configs/ipynb_template.md is used for template\n",
      "2021-03-27 06:19:02,194 INFO: Problem B: Created examples.\n",
      "2021-03-27 06:19:02,195 INFO: Problem B: \u001b[92mFormat prediction succeeded\u001b[39m\n",
      "2021-03-27 06:19:02,288 INFO: Problem B: Saved code to ./abc175/B/main.py\n",
      "2021-03-27 06:19:02,288 INFO: Problem B: Saved metadata to ./abc175/B/metadata.json\n",
      "2021-03-27 06:19:02,288 INFO: Problem B: Executing the following command in `./abc175/B`: bash ../../../configs/post_problem.sh\n",
      "=================================================\n",
      "2021-03-27 06:19:03,659 INFO: Problem C: ../configs/ipynb_template.md is used for template\n",
      "2021-03-27 06:19:03,838 INFO: Problem C: Created examples.\n",
      "2021-03-27 06:19:03,838 INFO: Problem C: \u001b[92mFormat prediction succeeded\u001b[39m\n",
      "2021-03-27 06:19:03,923 INFO: Problem C: Saved code to ./abc175/C/main.py\n",
      "2021-03-27 06:19:03,923 INFO: Problem C: Saved metadata to ./abc175/C/metadata.json\n",
      "2021-03-27 06:19:03,923 INFO: Problem C: Executing the following command in `./abc175/C`: bash ../../../configs/post_problem.sh\n",
      "=================================================\n",
      "2021-03-27 06:19:05,382 INFO: Problem D: ../configs/ipynb_template.md is used for template\n",
      "2021-03-27 06:19:05,582 INFO: Problem D: Created examples.\n",
      "2021-03-27 06:19:05,583 INFO: Problem D: \u001b[92mFormat prediction succeeded\u001b[39m\n",
      "2021-03-27 06:19:05,673 INFO: Problem D: Saved code to ./abc175/D/main.py\n",
      "2021-03-27 06:19:05,673 INFO: Problem D: Saved metadata to ./abc175/D/metadata.json\n",
      "2021-03-27 06:19:05,674 INFO: Problem D: Executing the following command in `./abc175/D`: bash ../../../configs/post_problem.sh\n",
      "=================================================\n",
      "2021-03-27 06:19:07,187 INFO: Problem E: ../configs/ipynb_template.md is used for template\n",
      "2021-03-27 06:19:07,373 INFO: Problem E: Created examples.\n",
      "2021-03-27 06:19:07,375 INFO: Problem E: \u001b[92mFormat prediction succeeded\u001b[39m\n",
      "2021-03-27 06:19:07,493 INFO: Problem E: Saved code to ./abc175/E/main.py\n",
      "2021-03-27 06:19:07,493 INFO: Problem E: Saved metadata to ./abc175/E/metadata.json\n",
      "2021-03-27 06:19:07,493 INFO: Problem E: Executing the following command in `./abc175/E`: bash ../../../configs/post_problem.sh\n",
      "=================================================\n",
      "2021-03-27 06:19:08,915 INFO: Problem F: ../configs/ipynb_template.md is used for template\n",
      "2021-03-27 06:19:09,095 INFO: Problem F: Created examples.\n",
      "2021-03-27 06:19:09,096 INFO: Problem F: \u001b[92mFormat prediction succeeded\u001b[39m\n",
      "2021-03-27 06:19:09,179 INFO: Problem F: Saved code to ./abc175/F/main.py\n",
      "2021-03-27 06:19:09,180 INFO: Problem F: Saved metadata to ./abc175/F/metadata.json\n",
      "2021-03-27 06:19:09,180 INFO: Problem F: Executing the following command in `./abc175/F`: bash ../../../configs/post_problem.sh\n",
      "=================================================\n",
      "2021-03-27 06:19:10,631 INFO: Executing the following command in `./abc175`: bash ../../configs/post_contest.sh\n",
      "\u001b[0m"
     ]
    }
   ],
   "source": [
    "!atcoder-tools gen abc175 --workspace='.' --lang='python' --save-no-session-cache --config='../configs/atcodertools.toml' "
   ]
  },
  {
   "cell_type": "code",
   "execution_count": null,
   "metadata": {},
   "outputs": [],
   "source": []
  }
 ],
 "metadata": {
  "kernelspec": {
   "display_name": "Python 3",
   "language": "python",
   "name": "python3"
  }
 },
 "nbformat": 4,
 "nbformat_minor": 5
}
