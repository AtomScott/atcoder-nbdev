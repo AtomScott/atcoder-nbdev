{
 "cells": [
  {
   "cell_type": "code",
   "execution_count": null,
   "metadata": {},
   "outputs": [],
   "source": [
    "# default_exp tools"
   ]
  },
  {
   "cell_type": "markdown",
   "metadata": {},
   "source": [
    "# tools\n",
    "\n",
    "> tools"
   ]
  },
  {
   "cell_type": "code",
   "execution_count": null,
   "metadata": {},
   "outputs": [],
   "source": [
    "#hide\n",
    "from nbdev.showdoc import *"
   ]
  },
  {
   "cell_type": "code",
   "execution_count": null,
   "metadata": {},
   "outputs": [],
   "source": [
    "#export\n",
    "import os\n",
    "from glob import glob\n",
    "\n",
    "from atcodertools.tools.tester import run_all_tests\n",
    "from atcodertools.common.judgetype import ErrorType, NormalJudge, DecimalJudge, Judge, JudgeType"
   ]
  },
  {
   "cell_type": "code",
   "execution_count": null,
   "metadata": {},
   "outputs": [],
   "source": [
    "#export\n",
    "def run_tests(alphabet):\n",
    "    inputs = sorted(glob(f\"{alphabet}/in*.txt\"))\n",
    "    outputs = sorted(glob(f\"{alphabet}/out*.txt\"))                             \n",
    "\n",
    "    return run_all_tests(f'{alphabet}/main.py', inputs, outputs, 1, False, False, NormalJudge())"
   ]
  }
 ],
 "metadata": {
  "kernelspec": {
   "display_name": "Python 3",
   "language": "python",
   "name": "python3"
  }
 },
 "nbformat": 4,
 "nbformat_minor": 4
}
